{
 "cells": [
  {
   "cell_type": "code",
   "execution_count": 44,
   "metadata": {},
   "outputs": [],
   "source": [
    "from tensorflow.contrib import slim\n",
    "from sklearn.metrics import precision_recall_fscore_support as score\n",
    "import tensorflow as tf\n",
    "import numpy as np"
   ]
  },
  {
   "cell_type": "code",
   "execution_count": 26,
   "metadata": {},
   "outputs": [],
   "source": [
    "# logits = tf.Variable([[0.1, 0.5, 0.4],\n",
    "#       [0.8, 0.1, 0.1],\n",
    "#       [0.6, 0.3, 0.2]])\n",
    "# labels = tf.Variable([[0, 1, 0],\n",
    "#       [1, 0, 0],\n",
    "#       [0, 0, 1]])\n",
    "# labels=tf.argmax(labels, 0)\n",
    "# predictions=tf.argmax(logits,0)\n",
    "\n",
    "labels = tf.Variable([0, 1, 2, 0, 1, 2])\n",
    "predictions = tf.Variable([0, 2, 1, 0, 0, 1])"
   ]
  },
  {
   "cell_type": "code",
   "execution_count": 27,
   "metadata": {},
   "outputs": [
    {
     "name": "stdout",
     "output_type": "stream",
     "text": [
      "[0.0, 1.0]\n",
      "[1.0]\n",
      "[[2 0 0]\n",
      " [1 0 1]\n",
      " [0 2 0]]\n"
     ]
    }
   ],
   "source": [
    "acc, acc_op = tf.metrics.precision(labels,predictions)\n",
    "sess = tf.InteractiveSession()\n",
    "tf.global_variables_initializer().run()\n",
    "tf.local_variables_initializer().run()\n",
    "print(sess.run([acc, acc_op]))\n",
    "print(sess.run([acc]))\n",
    "confusion = tf.confusion_matrix(labels=labels, predictions=predictions, num_classes=3)\n",
    "print(sess.run(confusion))\n",
    "# Output\n",
    "#[0.0, 0.66666669]\n",
    "#[0.66666669]"
   ]
  },
  {
   "cell_type": "code",
   "execution_count": 48,
   "metadata": {},
   "outputs": [
    {
     "name": "stdout",
     "output_type": "stream",
     "text": [
      "precision: [0.66666667 0.         0.        ]\n",
      "precision: 0.222222222222\n",
      "recall: [1. 0. 0.]\n",
      "precision: 0.333333333333\n",
      "fscore: [0.8 0.  0. ]\n"
     ]
    }
   ],
   "source": [
    "labels = [0, 1, 2, 0, 1, 2]\n",
    "predictions = [0, 2, 1, 0, 0, 1]\n",
    "\n",
    "precision, recall, f1, _ = score(labels, predictions)\n",
    "print('precision: {}'.format(precision))\n",
    "print('precision: {}'.format(np.mean(precision)))\n",
    "print('recall: {}'.format(recall))\n",
    "print('precision: {}'.format(np.mean(recall)))\n",
    "print('fscore: {}'.format(f1))"
   ]
  },
  {
   "cell_type": "code",
   "execution_count": 24,
   "metadata": {},
   "outputs": [
    {
     "name": "stdout",
     "output_type": "stream",
     "text": [
      "('precision', 1.0)\n",
      "('accuracy', 0.33333334)\n"
     ]
    }
   ],
   "source": [
    "# Choose the metrics to compute:\n",
    "names_to_values, names_to_updates = slim.metrics.aggregate_metric_map({\n",
    "    \"accuracy\": tf.metrics.accuracy(labels, predictions),\n",
    "    'precision': tf.metrics.precision(labels, predictions),\n",
    "#     'Recall@1': tf.metrics.recall_at_k(labels, logits, 1)\n",
    "})\n",
    "\n",
    "with tf.Session() as sess:\n",
    "    tf.global_variables_initializer().run()\n",
    "    tf.local_variables_initializer().run()\n",
    "    sess.run(names_to_updates.values())\n",
    "#     print(sess.run(names_to_values.values()))\n",
    "    for metric_name, metric_value in names_to_values.iteritems():\n",
    "        print(metric_name, sess.run(metric_value))\n"
   ]
  },
  {
   "cell_type": "code",
   "execution_count": 17,
   "metadata": {},
   "outputs": [
    {
     "name": "stdout",
     "output_type": "stream",
     "text": [
      "Tensor(\"confusion_matrix/SparseTensorDenseAdd:0\", shape=(3, 3), dtype=int32)\n"
     ]
    }
   ],
   "source": []
  },
  {
   "cell_type": "code",
   "execution_count": null,
   "metadata": {},
   "outputs": [],
   "source": []
  }
 ],
 "metadata": {
  "kernelspec": {
   "display_name": "Python 2",
   "language": "python",
   "name": "python2"
  },
  "language_info": {
   "codemirror_mode": {
    "name": "ipython",
    "version": 2
   },
   "file_extension": ".py",
   "mimetype": "text/x-python",
   "name": "python",
   "nbconvert_exporter": "python",
   "pygments_lexer": "ipython2",
   "version": "2.7.10"
  }
 },
 "nbformat": 4,
 "nbformat_minor": 2
}
